{
 "cells": [
  {
   "cell_type": "markdown",
   "metadata": {},
   "source": [
    "# Identifying Users With Similar Buying Habits and Preferences"
   ]
  },
  {
   "cell_type": "markdown",
   "metadata": {},
   "source": [
    "## 1. Data Preprocessing"
   ]
  },
  {
   "cell_type": "markdown",
   "metadata": {},
   "source": [
    "### Load data"
   ]
  },
  {
   "cell_type": "code",
   "execution_count": 2,
   "metadata": {},
   "outputs": [],
   "source": [
    "import pandas as pd\n",
    "\n",
    "aislesDF = pd.read_csv('../data/aisles.csv')\n",
    "departmentDF = pd.read_csv('../data/departments.csv')\n",
    "Order_Products_Prior_DF = pd.read_csv('../data/order_products_prior.csv')\n",
    "Order_Products_Train_DF = pd.read_csv('../data/order_products_train.csv')\n",
    "ordersDF = pd.read_csv('../data/orders.csv')\n",
    "productsDF = pd.read_csv('../data/products.csv')\n"
   ]
  },
  {
   "cell_type": "markdown",
   "metadata": {},
   "source": [
    "### Merge into one dataframe "
   ]
  },
  {
   "cell_type": "markdown",
   "metadata": {},
   "source": [
    "Only keep the users that exist in both 'prior' table and train eval set of 'orders' table."
   ]
  },
  {
   "cell_type": "code",
   "execution_count": 2,
   "metadata": {
    "collapsed": true
   },
   "outputs": [],
   "source": [
    "# orders in prior merged with product names\n",
    "Order_Product_Name_Prior = pd.merge(Order_Products_Prior_DF, \n",
    "                                    productsDF, how='left', on='product_id')\n",
    "# Prior orders with user_id, product_id, product_name\n",
    "Prior_User_Order_Product = pd.merge(Order_Product_Name_Prior, \n",
    "                                    ordersDF, how='left', on='order_id')"
   ]
  },
  {
   "cell_type": "code",
   "execution_count": 3,
   "metadata": {
    "collapsed": true
   },
   "outputs": [],
   "source": [
    "# keep only those that same user_id exists in both train and prior\n",
    "Prior_User_Order_Product_inner = pd.merge(Prior_User_Order_Product,\n",
    "                                          ordersDF[ordersDF['eval_set']=='train'][['user_id','eval_set']], \n",
    "                                          how='inner', on='user_id')"
   ]
  },
  {
   "cell_type": "code",
   "execution_count": 4,
   "metadata": {
    "scrolled": true
   },
   "outputs": [
    {
     "data": {
      "text/html": [
       "<div>\n",
       "<style>\n",
       "    .dataframe thead tr:only-child th {\n",
       "        text-align: right;\n",
       "    }\n",
       "\n",
       "    .dataframe thead th {\n",
       "        text-align: left;\n",
       "    }\n",
       "\n",
       "    .dataframe tbody tr th {\n",
       "        vertical-align: top;\n",
       "    }\n",
       "</style>\n",
       "<table border=\"1\" class=\"dataframe\">\n",
       "  <thead>\n",
       "    <tr style=\"text-align: right;\">\n",
       "      <th></th>\n",
       "      <th>order_id</th>\n",
       "      <th>product_id</th>\n",
       "      <th>add_to_cart_order</th>\n",
       "      <th>reordered</th>\n",
       "      <th>product_name</th>\n",
       "      <th>aisle_id</th>\n",
       "      <th>department_id</th>\n",
       "      <th>user_id</th>\n",
       "      <th>eval_set_x</th>\n",
       "      <th>order_number</th>\n",
       "      <th>order_dow</th>\n",
       "      <th>order_hour_of_day</th>\n",
       "      <th>days_since_prior_order</th>\n",
       "      <th>eval_set_y</th>\n",
       "    </tr>\n",
       "  </thead>\n",
       "  <tbody>\n",
       "    <tr>\n",
       "      <th>0</th>\n",
       "      <td>2</td>\n",
       "      <td>33120</td>\n",
       "      <td>1</td>\n",
       "      <td>1</td>\n",
       "      <td>Organic Egg Whites</td>\n",
       "      <td>86</td>\n",
       "      <td>16</td>\n",
       "      <td>202279</td>\n",
       "      <td>prior</td>\n",
       "      <td>3</td>\n",
       "      <td>5</td>\n",
       "      <td>9</td>\n",
       "      <td>8.0</td>\n",
       "      <td>train</td>\n",
       "    </tr>\n",
       "    <tr>\n",
       "      <th>1</th>\n",
       "      <td>2</td>\n",
       "      <td>28985</td>\n",
       "      <td>2</td>\n",
       "      <td>1</td>\n",
       "      <td>Michigan Organic Kale</td>\n",
       "      <td>83</td>\n",
       "      <td>4</td>\n",
       "      <td>202279</td>\n",
       "      <td>prior</td>\n",
       "      <td>3</td>\n",
       "      <td>5</td>\n",
       "      <td>9</td>\n",
       "      <td>8.0</td>\n",
       "      <td>train</td>\n",
       "    </tr>\n",
       "    <tr>\n",
       "      <th>2</th>\n",
       "      <td>2</td>\n",
       "      <td>9327</td>\n",
       "      <td>3</td>\n",
       "      <td>0</td>\n",
       "      <td>Garlic Powder</td>\n",
       "      <td>104</td>\n",
       "      <td>13</td>\n",
       "      <td>202279</td>\n",
       "      <td>prior</td>\n",
       "      <td>3</td>\n",
       "      <td>5</td>\n",
       "      <td>9</td>\n",
       "      <td>8.0</td>\n",
       "      <td>train</td>\n",
       "    </tr>\n",
       "    <tr>\n",
       "      <th>3</th>\n",
       "      <td>2</td>\n",
       "      <td>45918</td>\n",
       "      <td>4</td>\n",
       "      <td>1</td>\n",
       "      <td>Coconut Butter</td>\n",
       "      <td>19</td>\n",
       "      <td>13</td>\n",
       "      <td>202279</td>\n",
       "      <td>prior</td>\n",
       "      <td>3</td>\n",
       "      <td>5</td>\n",
       "      <td>9</td>\n",
       "      <td>8.0</td>\n",
       "      <td>train</td>\n",
       "    </tr>\n",
       "    <tr>\n",
       "      <th>4</th>\n",
       "      <td>2</td>\n",
       "      <td>30035</td>\n",
       "      <td>5</td>\n",
       "      <td>0</td>\n",
       "      <td>Natural Sweetener</td>\n",
       "      <td>17</td>\n",
       "      <td>13</td>\n",
       "      <td>202279</td>\n",
       "      <td>prior</td>\n",
       "      <td>3</td>\n",
       "      <td>5</td>\n",
       "      <td>9</td>\n",
       "      <td>8.0</td>\n",
       "      <td>train</td>\n",
       "    </tr>\n",
       "  </tbody>\n",
       "</table>\n",
       "</div>"
      ],
      "text/plain": [
       "   order_id  product_id  add_to_cart_order  reordered           product_name  \\\n",
       "0         2       33120                  1          1     Organic Egg Whites   \n",
       "1         2       28985                  2          1  Michigan Organic Kale   \n",
       "2         2        9327                  3          0          Garlic Powder   \n",
       "3         2       45918                  4          1         Coconut Butter   \n",
       "4         2       30035                  5          0      Natural Sweetener   \n",
       "\n",
       "   aisle_id  department_id  user_id eval_set_x  order_number  order_dow  \\\n",
       "0        86             16   202279      prior             3          5   \n",
       "1        83              4   202279      prior             3          5   \n",
       "2       104             13   202279      prior             3          5   \n",
       "3        19             13   202279      prior             3          5   \n",
       "4        17             13   202279      prior             3          5   \n",
       "\n",
       "   order_hour_of_day  days_since_prior_order eval_set_y  \n",
       "0                  9                     8.0      train  \n",
       "1                  9                     8.0      train  \n",
       "2                  9                     8.0      train  \n",
       "3                  9                     8.0      train  \n",
       "4                  9                     8.0      train  "
      ]
     },
     "execution_count": 4,
     "metadata": {},
     "output_type": "execute_result"
    }
   ],
   "source": [
    "Prior_User_Order_Product_inner.head()"
   ]
  },
  {
   "cell_type": "markdown",
   "metadata": {},
   "source": [
    "## 2. Feature Extraction"
   ]
  },
  {
   "cell_type": "markdown",
   "metadata": {},
   "source": [
    "The features that will be extracted directly are:\n",
    "* Mean of order_dow (order placed day of week)\n",
    "* Mean of order_hour_of_day\n",
    "* Mean of days_since_prior_order\n",
    "* Total number of orders made\n",
    "* Total number of products bought\n",
    "\n",
    "Then we need another vectorized feature of product name: combine all the products name into one row per user, for word2vec analysis."
   ]
  },
  {
   "cell_type": "code",
   "execution_count": 5,
   "metadata": {
    "collapsed": true
   },
   "outputs": [],
   "source": [
    "user_habit = Prior_User_Order_Product_inner[['user_id','order_id',\n",
    "                                       'product_name','order_dow',\n",
    "                                       'order_hour_of_day','days_since_prior_order']]"
   ]
  },
  {
   "cell_type": "code",
   "execution_count": 6,
   "metadata": {
    "collapsed": true
   },
   "outputs": [],
   "source": [
    "import numpy as np\n",
    "# Create a dataframe: average value of each user\n",
    "user_avg = user_habit.groupby('user_id')['order_dow',\n",
    "                                'order_hour_of_day',\n",
    "                                'days_since_prior_order'].agg(np.nanmean)\n",
    "# Total number of orders of each user\n",
    "user_order = user_habit.groupby('user_id').order_id.nunique()\n",
    "user_avg['num_of_orders'] = user_order\n",
    "# Total number of products of each user\n",
    "product_number = user_habit.groupby('user_id')['order_id'].agg('count')\n",
    "user_avg['num_of_products'] = product_number"
   ]
  },
  {
   "cell_type": "code",
   "execution_count": 7,
   "metadata": {
    "collapsed": true
   },
   "outputs": [],
   "source": [
    "# add product name to each user\n",
    "name_list = []\n",
    "for p_name in user_habit.groupby('user_id')['product_name']:\n",
    "        name_list.append(' '.join(p_name[1]))\n",
    "\n",
    "# add the names to dataframe\n",
    "user_avg['product_name'] = name_list       "
   ]
  },
  {
   "cell_type": "code",
   "execution_count": 8,
   "metadata": {},
   "outputs": [
    {
     "data": {
      "text/html": [
       "<div>\n",
       "<style>\n",
       "    .dataframe thead tr:only-child th {\n",
       "        text-align: right;\n",
       "    }\n",
       "\n",
       "    .dataframe thead th {\n",
       "        text-align: left;\n",
       "    }\n",
       "\n",
       "    .dataframe tbody tr th {\n",
       "        vertical-align: top;\n",
       "    }\n",
       "</style>\n",
       "<table border=\"1\" class=\"dataframe\">\n",
       "  <thead>\n",
       "    <tr style=\"text-align: right;\">\n",
       "      <th></th>\n",
       "      <th>order_dow</th>\n",
       "      <th>order_hour_of_day</th>\n",
       "      <th>days_since_prior_order</th>\n",
       "      <th>num_of_orders</th>\n",
       "      <th>num_of_products</th>\n",
       "      <th>product_name</th>\n",
       "    </tr>\n",
       "    <tr>\n",
       "      <th>user_id</th>\n",
       "      <th></th>\n",
       "      <th></th>\n",
       "      <th></th>\n",
       "      <th></th>\n",
       "      <th></th>\n",
       "      <th></th>\n",
       "    </tr>\n",
       "  </thead>\n",
       "  <tbody>\n",
       "    <tr>\n",
       "      <th>1</th>\n",
       "      <td>2.644068</td>\n",
       "      <td>10.542373</td>\n",
       "      <td>20.259259</td>\n",
       "      <td>10</td>\n",
       "      <td>59</td>\n",
       "      <td>Soda Original Beef Jerky Pistachios Organic St...</td>\n",
       "    </tr>\n",
       "    <tr>\n",
       "      <th>2</th>\n",
       "      <td>2.005128</td>\n",
       "      <td>10.441026</td>\n",
       "      <td>15.967033</td>\n",
       "      <td>14</td>\n",
       "      <td>195</td>\n",
       "      <td>Artichoke Spinach Dip Chipotle Beef &amp; Pork Rea...</td>\n",
       "    </tr>\n",
       "    <tr>\n",
       "      <th>5</th>\n",
       "      <td>1.621622</td>\n",
       "      <td>15.729730</td>\n",
       "      <td>14.500000</td>\n",
       "      <td>4</td>\n",
       "      <td>37</td>\n",
       "      <td>Uncured Genoa Salami Plain Whole Milk Yogurt W...</td>\n",
       "    </tr>\n",
       "    <tr>\n",
       "      <th>7</th>\n",
       "      <td>1.728155</td>\n",
       "      <td>13.631068</td>\n",
       "      <td>13.546392</td>\n",
       "      <td>20</td>\n",
       "      <td>206</td>\n",
       "      <td>85% Lean Ground Beef Organic Apple Slices Appl...</td>\n",
       "    </tr>\n",
       "    <tr>\n",
       "      <th>8</th>\n",
       "      <td>4.204082</td>\n",
       "      <td>2.448980</td>\n",
       "      <td>30.000000</td>\n",
       "      <td>3</td>\n",
       "      <td>49</td>\n",
       "      <td>Organic Baby Spinach Michigan Organic Kale Bag...</td>\n",
       "    </tr>\n",
       "  </tbody>\n",
       "</table>\n",
       "</div>"
      ],
      "text/plain": [
       "         order_dow  order_hour_of_day  days_since_prior_order  num_of_orders  \\\n",
       "user_id                                                                        \n",
       "1         2.644068          10.542373               20.259259             10   \n",
       "2         2.005128          10.441026               15.967033             14   \n",
       "5         1.621622          15.729730               14.500000              4   \n",
       "7         1.728155          13.631068               13.546392             20   \n",
       "8         4.204082           2.448980               30.000000              3   \n",
       "\n",
       "         num_of_products                                       product_name  \n",
       "user_id                                                                      \n",
       "1                     59  Soda Original Beef Jerky Pistachios Organic St...  \n",
       "2                    195  Artichoke Spinach Dip Chipotle Beef & Pork Rea...  \n",
       "5                     37  Uncured Genoa Salami Plain Whole Milk Yogurt W...  \n",
       "7                    206  85% Lean Ground Beef Organic Apple Slices Appl...  \n",
       "8                     49  Organic Baby Spinach Michigan Organic Kale Bag...  "
      ]
     },
     "execution_count": 8,
     "metadata": {},
     "output_type": "execute_result"
    }
   ],
   "source": [
    "# Take a glimpse of the dataset\n",
    "user_avg.head()\n",
    "\n",
    "#Prior_User_Order_Product_inner.to_csv(\"../output/Prior_User_Order_Product_inner.csv\")\n",
    "#user_avg.to_csv('../output/user_avg.csv')"
   ]
  },
  {
   "cell_type": "markdown",
   "metadata": {},
   "source": [
    "## 3. Extract Vectorized Text Feature: Use PySpark Word2Vec"
   ]
  },
  {
   "cell_type": "code",
   "execution_count": 9,
   "metadata": {
    "collapsed": true
   },
   "outputs": [],
   "source": [
    "from pyspark.sql import SparkSession\n",
    "from pyspark.ml.feature import Word2Vec\n",
    "\n",
    "spark = SparkSession.builder.appName(\"User Habit\").getOrCreate()"
   ]
  },
  {
   "cell_type": "code",
   "execution_count": 4,
   "metadata": {
    "collapsed": true
   },
   "outputs": [],
   "source": [
    "# user_avg = pd.read_csv(\"../output/user_avg.csv\")"
   ]
  },
  {
   "cell_type": "code",
   "execution_count": 10,
   "metadata": {
    "collapsed": true
   },
   "outputs": [],
   "source": [
    "product_name_DF = pd.DataFrame(user_avg['product_name'])\n",
    "# product_documentDF = spark.createDataFrame(product_name_DF)"
   ]
  },
  {
   "cell_type": "code",
   "execution_count": 11,
   "metadata": {},
   "outputs": [
    {
     "data": {
      "text/html": [
       "<div>\n",
       "<style>\n",
       "    .dataframe thead tr:only-child th {\n",
       "        text-align: right;\n",
       "    }\n",
       "\n",
       "    .dataframe thead th {\n",
       "        text-align: left;\n",
       "    }\n",
       "\n",
       "    .dataframe tbody tr th {\n",
       "        vertical-align: top;\n",
       "    }\n",
       "</style>\n",
       "<table border=\"1\" class=\"dataframe\">\n",
       "  <thead>\n",
       "    <tr style=\"text-align: right;\">\n",
       "      <th></th>\n",
       "      <th>product_name</th>\n",
       "    </tr>\n",
       "    <tr>\n",
       "      <th>user_id</th>\n",
       "      <th></th>\n",
       "    </tr>\n",
       "  </thead>\n",
       "  <tbody>\n",
       "    <tr>\n",
       "      <th>1</th>\n",
       "      <td>Soda Original Beef Jerky Pistachios Organic St...</td>\n",
       "    </tr>\n",
       "    <tr>\n",
       "      <th>2</th>\n",
       "      <td>Artichoke Spinach Dip Chipotle Beef &amp; Pork Rea...</td>\n",
       "    </tr>\n",
       "    <tr>\n",
       "      <th>5</th>\n",
       "      <td>Uncured Genoa Salami Plain Whole Milk Yogurt W...</td>\n",
       "    </tr>\n",
       "    <tr>\n",
       "      <th>7</th>\n",
       "      <td>85% Lean Ground Beef Organic Apple Slices Appl...</td>\n",
       "    </tr>\n",
       "    <tr>\n",
       "      <th>8</th>\n",
       "      <td>Organic Baby Spinach Michigan Organic Kale Bag...</td>\n",
       "    </tr>\n",
       "  </tbody>\n",
       "</table>\n",
       "</div>"
      ],
      "text/plain": [
       "                                              product_name\n",
       "user_id                                                   \n",
       "1        Soda Original Beef Jerky Pistachios Organic St...\n",
       "2        Artichoke Spinach Dip Chipotle Beef & Pork Rea...\n",
       "5        Uncured Genoa Salami Plain Whole Milk Yogurt W...\n",
       "7        85% Lean Ground Beef Organic Apple Slices Appl...\n",
       "8        Organic Baby Spinach Michigan Organic Kale Bag..."
      ]
     },
     "execution_count": 11,
     "metadata": {},
     "output_type": "execute_result"
    }
   ],
   "source": [
    "product_name_DF.head()"
   ]
  },
  {
   "cell_type": "code",
   "execution_count": 12,
   "metadata": {},
   "outputs": [
    {
     "name": "stdout",
     "output_type": "stream",
     "text": [
      "Int64Index([160334,  88565,  79012, 169304,  55886, 116927,  97679,   7855,\n",
      "            135591,  29129,\n",
      "            ...\n",
      "            202726,  56964,  66861, 132464, 114757,  17789, 192164,  82482,\n",
      "            103592,  47895],\n",
      "           dtype='int64', name='user_id', length=26242)\n"
     ]
    }
   ],
   "source": [
    "# Sample a fraction of data due to large computation\n",
    "sample_frac = 0.2\n",
    "product_name_DF_sample  = product_name_DF.sample(frac = sample_frac, random_state=321)\n",
    "sample_user_id  = product_name_DF_sample.index\n",
    "print(sample_user_id)"
   ]
  },
  {
   "cell_type": "code",
   "execution_count": 13,
   "metadata": {},
   "outputs": [
    {
     "name": "stdout",
     "output_type": "stream",
     "text": [
      "26242\n"
     ]
    }
   ],
   "source": [
    "dataFrameList = []\n",
    "for row in product_name_DF_sample['product_name']:\n",
    "    tup = (row.split(' '),)\n",
    "    dataFrameList.append(tup)\n",
    "\n",
    "# Check by the length of output\n",
    "print(len(dataFrameList))"
   ]
  },
  {
   "cell_type": "code",
   "execution_count": 14,
   "metadata": {
    "collapsed": true
   },
   "outputs": [],
   "source": [
    "# Input data of word2vec: Each row is a bag of words from a sentence or document.\n",
    "N = len(dataFrameList)//100\n",
    "mod = len(dataFrameList) % 100\n",
    "documentDF = spark.createDataFrame(dataFrameList[0:100], [\"product_name\"])\n",
    "\n",
    "for i in range(1,N):\n",
    "    documentDF_sub = spark.createDataFrame(dataFrameList[100*i:100*(i+1)], [\"product_name\"])\n",
    "    documentDF = documentDF.union(documentDF_sub)\n",
    "    \n",
    "documentDF_sub = spark.createDataFrame(dataFrameList[100*N:len(dataFrameList)], [\"product_name\"])\n",
    "documentDF = documentDF.union(documentDF_sub)"
   ]
  },
  {
   "cell_type": "code",
   "execution_count": 15,
   "metadata": {
    "collapsed": true
   },
   "outputs": [],
   "source": [
    "# Learn a mapping from words to Vectors.\n",
    "word2Vec = Word2Vec(vectorSize=5, minCount=0, inputCol=\"product_name\", outputCol=\"result\")\n",
    "model = word2Vec.fit(documentDF)\n",
    "\n",
    "result = model.transform(documentDF)"
   ]
  },
  {
   "cell_type": "code",
   "execution_count": 18,
   "metadata": {
    "collapsed": true
   },
   "outputs": [],
   "source": [
    "# Vectors: densevector\n",
    "vectorized_features = [ ]\n",
    "for row in result.collect():\n",
    "    text, vector = row\n",
    "    vectorized_features.append(vector)"
   ]
  },
  {
   "cell_type": "code",
   "execution_count": 25,
   "metadata": {
    "collapsed": true
   },
   "outputs": [],
   "source": [
    "# Get values from densevector into array\n",
    "vectorized_features_array=[]\n",
    "for vectors in vectorized_features:\n",
    "    vectorized_features_array.append(vectors.values)"
   ]
  },
  {
   "cell_type": "code",
   "execution_count": 39,
   "metadata": {
    "collapsed": true
   },
   "outputs": [],
   "source": [
    "# Names of vectorized feature columns\n",
    "col_names = []\n",
    "for i in range(1,6):\n",
    "    name = \"vectorized_feature_\" + str(i)\n",
    "    col_names.append(name)\n",
    "    \n",
    "# A dataframe: each vectorized feature as one column\n",
    "vectorized_features_DF = pd.DataFrame(np.array(vectorized_features_array).reshape(len(dataFrameList),5), \n",
    "                 columns = col_names)\n",
    "\n",
    "# Add \"user_id\" column\n",
    "vectorized_features_DF['user_id'] = sample_user_id"
   ]
  },
  {
   "cell_type": "code",
   "execution_count": 50,
   "metadata": {},
   "outputs": [
    {
     "data": {
      "text/html": [
       "<div>\n",
       "<style>\n",
       "    .dataframe thead tr:only-child th {\n",
       "        text-align: right;\n",
       "    }\n",
       "\n",
       "    .dataframe thead th {\n",
       "        text-align: left;\n",
       "    }\n",
       "\n",
       "    .dataframe tbody tr th {\n",
       "        vertical-align: top;\n",
       "    }\n",
       "</style>\n",
       "<table border=\"1\" class=\"dataframe\">\n",
       "  <thead>\n",
       "    <tr style=\"text-align: right;\">\n",
       "      <th></th>\n",
       "      <th>vectorized_feature_1</th>\n",
       "      <th>vectorized_feature_2</th>\n",
       "      <th>vectorized_feature_3</th>\n",
       "      <th>vectorized_feature_4</th>\n",
       "      <th>vectorized_feature_5</th>\n",
       "      <th>user_id</th>\n",
       "    </tr>\n",
       "  </thead>\n",
       "  <tbody>\n",
       "    <tr>\n",
       "      <th>0</th>\n",
       "      <td>-0.282369</td>\n",
       "      <td>-0.182000</td>\n",
       "      <td>0.306287</td>\n",
       "      <td>0.100679</td>\n",
       "      <td>-0.120577</td>\n",
       "      <td>160334</td>\n",
       "    </tr>\n",
       "    <tr>\n",
       "      <th>1</th>\n",
       "      <td>0.281474</td>\n",
       "      <td>0.120445</td>\n",
       "      <td>0.273489</td>\n",
       "      <td>-0.253893</td>\n",
       "      <td>-0.660901</td>\n",
       "      <td>88565</td>\n",
       "    </tr>\n",
       "    <tr>\n",
       "      <th>2</th>\n",
       "      <td>-0.123565</td>\n",
       "      <td>-0.070204</td>\n",
       "      <td>0.214689</td>\n",
       "      <td>-0.303687</td>\n",
       "      <td>-0.310858</td>\n",
       "      <td>79012</td>\n",
       "    </tr>\n",
       "    <tr>\n",
       "      <th>3</th>\n",
       "      <td>-0.218316</td>\n",
       "      <td>-0.182006</td>\n",
       "      <td>0.067302</td>\n",
       "      <td>-0.076648</td>\n",
       "      <td>-0.175688</td>\n",
       "      <td>169304</td>\n",
       "    </tr>\n",
       "    <tr>\n",
       "      <th>4</th>\n",
       "      <td>-0.389383</td>\n",
       "      <td>-0.138049</td>\n",
       "      <td>0.040070</td>\n",
       "      <td>-0.079571</td>\n",
       "      <td>-0.091004</td>\n",
       "      <td>55886</td>\n",
       "    </tr>\n",
       "  </tbody>\n",
       "</table>\n",
       "</div>"
      ],
      "text/plain": [
       "   vectorized_feature_1  vectorized_feature_2  vectorized_feature_3  \\\n",
       "0             -0.282369             -0.182000              0.306287   \n",
       "1              0.281474              0.120445              0.273489   \n",
       "2             -0.123565             -0.070204              0.214689   \n",
       "3             -0.218316             -0.182006              0.067302   \n",
       "4             -0.389383             -0.138049              0.040070   \n",
       "\n",
       "   vectorized_feature_4  vectorized_feature_5  user_id  \n",
       "0              0.100679             -0.120577   160334  \n",
       "1             -0.253893             -0.660901    88565  \n",
       "2             -0.303687             -0.310858    79012  \n",
       "3             -0.076648             -0.175688   169304  \n",
       "4             -0.079571             -0.091004    55886  "
      ]
     },
     "execution_count": 50,
     "metadata": {},
     "output_type": "execute_result"
    }
   ],
   "source": [
    "# Take a glimpse\n",
    "vectorized_features_DF.head()"
   ]
  },
  {
   "cell_type": "markdown",
   "metadata": {},
   "source": [
    "## 4. Get All Features: Concatenate with other features in step 2 into one df"
   ]
  },
  {
   "cell_type": "code",
   "execution_count": 63,
   "metadata": {
    "collapsed": true
   },
   "outputs": [],
   "source": [
    "# slice user_avg with sampled user_id\n",
    "user_avg_sampled = user_avg[user_avg.index.isin(sample_user_id)]\n",
    "# set index as one column 'user_id'\n",
    "user_avg_sampled.reset_index(level=0, inplace=True)\n",
    "# merge two dfs on 'user_id'\n",
    "user_habit_features = pd.merge(user_avg_sampled, vectorized_features_DF, how='inner', on=\"user_id\")\n",
    "# drop \"product_name\"\n",
    "user_habit_features.drop('product_name', axis=1, inplace=True)"
   ]
  },
  {
   "cell_type": "code",
   "execution_count": 64,
   "metadata": {
    "scrolled": true
   },
   "outputs": [
    {
     "data": {
      "text/html": [
       "<div>\n",
       "<style>\n",
       "    .dataframe thead tr:only-child th {\n",
       "        text-align: right;\n",
       "    }\n",
       "\n",
       "    .dataframe thead th {\n",
       "        text-align: left;\n",
       "    }\n",
       "\n",
       "    .dataframe tbody tr th {\n",
       "        vertical-align: top;\n",
       "    }\n",
       "</style>\n",
       "<table border=\"1\" class=\"dataframe\">\n",
       "  <thead>\n",
       "    <tr style=\"text-align: right;\">\n",
       "      <th></th>\n",
       "      <th>user_id</th>\n",
       "      <th>order_dow</th>\n",
       "      <th>order_hour_of_day</th>\n",
       "      <th>days_since_prior_order</th>\n",
       "      <th>num_of_orders</th>\n",
       "      <th>num_of_products</th>\n",
       "      <th>vectorized_feature_1</th>\n",
       "      <th>vectorized_feature_2</th>\n",
       "      <th>vectorized_feature_3</th>\n",
       "      <th>vectorized_feature_4</th>\n",
       "      <th>vectorized_feature_5</th>\n",
       "    </tr>\n",
       "  </thead>\n",
       "  <tbody>\n",
       "    <tr>\n",
       "      <th>0</th>\n",
       "      <td>37</td>\n",
       "      <td>3.260638</td>\n",
       "      <td>14.250000</td>\n",
       "      <td>12.687500</td>\n",
       "      <td>23</td>\n",
       "      <td>188</td>\n",
       "      <td>-0.301768</td>\n",
       "      <td>-0.067088</td>\n",
       "      <td>0.302247</td>\n",
       "      <td>0.112837</td>\n",
       "      <td>-0.129281</td>\n",
       "    </tr>\n",
       "    <tr>\n",
       "      <th>1</th>\n",
       "      <td>43</td>\n",
       "      <td>2.346939</td>\n",
       "      <td>15.040816</td>\n",
       "      <td>10.549296</td>\n",
       "      <td>11</td>\n",
       "      <td>147</td>\n",
       "      <td>-0.184910</td>\n",
       "      <td>0.093092</td>\n",
       "      <td>0.036534</td>\n",
       "      <td>-0.195309</td>\n",
       "      <td>-0.231066</td>\n",
       "    </tr>\n",
       "    <tr>\n",
       "      <th>2</th>\n",
       "      <td>49</td>\n",
       "      <td>2.617021</td>\n",
       "      <td>13.617021</td>\n",
       "      <td>28.522727</td>\n",
       "      <td>8</td>\n",
       "      <td>47</td>\n",
       "      <td>-0.234430</td>\n",
       "      <td>-0.073425</td>\n",
       "      <td>0.100409</td>\n",
       "      <td>-0.179090</td>\n",
       "      <td>-0.092016</td>\n",
       "    </tr>\n",
       "    <tr>\n",
       "      <th>3</th>\n",
       "      <td>62</td>\n",
       "      <td>2.850000</td>\n",
       "      <td>13.275000</td>\n",
       "      <td>15.772152</td>\n",
       "      <td>10</td>\n",
       "      <td>80</td>\n",
       "      <td>-0.321395</td>\n",
       "      <td>-0.093903</td>\n",
       "      <td>0.118370</td>\n",
       "      <td>0.169000</td>\n",
       "      <td>-0.197463</td>\n",
       "    </tr>\n",
       "    <tr>\n",
       "      <th>4</th>\n",
       "      <td>64</td>\n",
       "      <td>3.888889</td>\n",
       "      <td>15.903704</td>\n",
       "      <td>10.966102</td>\n",
       "      <td>10</td>\n",
       "      <td>135</td>\n",
       "      <td>-0.258294</td>\n",
       "      <td>-0.100414</td>\n",
       "      <td>0.160984</td>\n",
       "      <td>0.075478</td>\n",
       "      <td>-0.148819</td>\n",
       "    </tr>\n",
       "  </tbody>\n",
       "</table>\n",
       "</div>"
      ],
      "text/plain": [
       "   user_id  order_dow  order_hour_of_day  days_since_prior_order  \\\n",
       "0       37   3.260638          14.250000               12.687500   \n",
       "1       43   2.346939          15.040816               10.549296   \n",
       "2       49   2.617021          13.617021               28.522727   \n",
       "3       62   2.850000          13.275000               15.772152   \n",
       "4       64   3.888889          15.903704               10.966102   \n",
       "\n",
       "   num_of_orders  num_of_products  vectorized_feature_1  vectorized_feature_2  \\\n",
       "0             23              188             -0.301768             -0.067088   \n",
       "1             11              147             -0.184910              0.093092   \n",
       "2              8               47             -0.234430             -0.073425   \n",
       "3             10               80             -0.321395             -0.093903   \n",
       "4             10              135             -0.258294             -0.100414   \n",
       "\n",
       "   vectorized_feature_3  vectorized_feature_4  vectorized_feature_5  \n",
       "0              0.302247              0.112837             -0.129281  \n",
       "1              0.036534             -0.195309             -0.231066  \n",
       "2              0.100409             -0.179090             -0.092016  \n",
       "3              0.118370              0.169000             -0.197463  \n",
       "4              0.160984              0.075478             -0.148819  "
      ]
     },
     "execution_count": 64,
     "metadata": {},
     "output_type": "execute_result"
    }
   ],
   "source": [
    "# Take a glimpse\n",
    "user_habit_features.head()"
   ]
  },
  {
   "cell_type": "code",
   "execution_count": 83,
   "metadata": {
    "collapsed": true
   },
   "outputs": [],
   "source": [
    "#user_habit_features.to_csv('../output/user_habit_features.txt', sep='\\t', index=False)\n",
    "#user_habit_features.to_csv('../output/user_habit_features.csv', sep='\\t', index=False)\n",
    "#user_habit_features_only = user_habit_features.loc[:, 'order_dow':]\n",
    "#user_habit_features_only.to_csv('../output/user_habit_features_only.txt', sep='\\t', index=False)\n",
    "#user_habit_features_only.to_csv('../output/user_habit_features_only.csv', index=False)"
   ]
  },
  {
   "cell_type": "markdown",
   "metadata": {},
   "source": [
    "## 5. Cluster Users: PySpark K-Means "
   ]
  },
  {
   "cell_type": "markdown",
   "metadata": {},
   "source": [
    "### 5.1 PCA: Reduce features to 2-dimensional"
   ]
  },
  {
   "cell_type": "code",
   "execution_count": 97,
   "metadata": {
    "collapsed": true
   },
   "outputs": [],
   "source": [
    "from sklearn.decomposition import PCA\n",
    "user_habit_features_only = pd.read_csv('../output/user_habit_features_only.csv')\n",
    "user_habit_features = pd.read_csv('../output/user_habit_features.csv', sep = '\\t')\n",
    "pca = PCA(n_components=2).fit(user_habit_features_only)\n",
    "pca_2d = pca.transform(user_habit_features_only)"
   ]
  },
  {
   "cell_type": "code",
   "execution_count": 98,
   "metadata": {},
   "outputs": [],
   "source": [
    "pca_df = pd.DataFrame(pca_2d)\n",
    "#pca_df.to_csv('../output/pca_feature_df.txt', sep='\\t', index=False)\n",
    "#pca_df.to_csv('../output/pca_feature_df.csv', index=False)\n",
    "pca_df['user_id'] = user_habit_features['user_id']\n",
    "#pca_df.to_csv('../output/pca_df.txt', sep='\\t', index=False)\n",
    "#pca_df.to_csv('../output/pca_df.csv', index=False)"
   ]
  },
  {
   "cell_type": "markdown",
   "metadata": {},
   "source": [
    "### Find the optimal K"
   ]
  },
  {
   "cell_type": "code",
   "execution_count": 99,
   "metadata": {},
   "outputs": [],
   "source": [
    "# Load and parse the data\n",
    "data_pca = sc.textFile(\"../output/pca_feature_df.txt\")\n",
    "parsedData_pca = data_pca.map(lambda line: array([float(x) for x in line.split('\\t')]))\n",
    "\n",
    "# Evaluate clustering by computing Within Set Sum of Squared Errors\n",
    "def error(point):\n",
    "    center = clusters.centers[clusters.predict(point)]\n",
    "    return sqrt(sum([x**2 for x in (point - center)]))"
   ]
  },
  {
   "cell_type": "code",
   "execution_count": 100,
   "metadata": {},
   "outputs": [
    {
     "name": "stdout",
     "output_type": "stream",
     "text": [
      "====== k:5 -- Within Set Sum of Squared Error = 925645.5695087881=======\n",
      "====== k:10 -- Within Set Sum of Squared Error = 571873.9200253651=======\n",
      "====== k:15 -- Within Set Sum of Squared Error = 404232.8312967894=======\n",
      "====== k:20 -- Within Set Sum of Squared Error = 420393.85970603756=======\n",
      "====== k:25 -- Within Set Sum of Squared Error = 528154.8771568451=======\n",
      "====== k:30 -- Within Set Sum of Squared Error = 329658.82038827357=======\n",
      "====== k:35 -- Within Set Sum of Squared Error = 305537.31041853153=======\n",
      "====== k:40 -- Within Set Sum of Squared Error = 290879.92673649045=======\n",
      "====== k:45 -- Within Set Sum of Squared Error = 301790.2795253965=======\n",
      "====== k:50 -- Within Set Sum of Squared Error = 248299.86312096464=======\n",
      "====== k:55 -- Within Set Sum of Squared Error = 227716.86435129843=======\n",
      "====== k:60 -- Within Set Sum of Squared Error = 288854.47049812716=======\n",
      "====== k:65 -- Within Set Sum of Squared Error = 269758.6048300275=======\n",
      "====== k:70 -- Within Set Sum of Squared Error = 207171.7781269534=======\n",
      "====== k:75 -- Within Set Sum of Squared Error = 211923.18368022464=======\n",
      "====== k:80 -- Within Set Sum of Squared Error = 213467.41197960844=======\n",
      "====== k:85 -- Within Set Sum of Squared Error = 216965.74061005464=======\n",
      "====== k:90 -- Within Set Sum of Squared Error = 208964.71368931502=======\n",
      "====== k:95 -- Within Set Sum of Squared Error = 202902.35745046698=======\n",
      "====== k:100 -- Within Set Sum of Squared Error = 236614.1159454111=======\n",
      "====== k:105 -- Within Set Sum of Squared Error = 176004.05942926143=======\n",
      "====== k:110 -- Within Set Sum of Squared Error = 201143.5162963157=======\n",
      "====== k:115 -- Within Set Sum of Squared Error = 175538.1649930756=======\n",
      "====== k:120 -- Within Set Sum of Squared Error = 175800.48169919103=======\n",
      "====== k:125 -- Within Set Sum of Squared Error = 170133.0350257377=======\n",
      "====== k:130 -- Within Set Sum of Squared Error = 181215.50979361654=======\n",
      "====== k:135 -- Within Set Sum of Squared Error = 183380.36586623083=======\n",
      "====== k:140 -- Within Set Sum of Squared Error = 160786.36500219651=======\n",
      "====== k:145 -- Within Set Sum of Squared Error = 147548.67055074475=======\n",
      "====== k:150 -- Within Set Sum of Squared Error = 152980.3547770986=======\n",
      "====== k:155 -- Within Set Sum of Squared Error = 147439.91399885638=======\n",
      "====== k:160 -- Within Set Sum of Squared Error = 150684.06059566126=======\n",
      "====== k:165 -- Within Set Sum of Squared Error = 139351.24985562795=======\n",
      "====== k:170 -- Within Set Sum of Squared Error = 161875.9945132347=======\n",
      "====== k:175 -- Within Set Sum of Squared Error = 146845.1158831982=======\n",
      "====== k:180 -- Within Set Sum of Squared Error = 134089.1941573544=======\n"
     ]
    }
   ],
   "source": [
    "WSSSE_list_pca = []\n",
    "\n",
    "K_range = range(5,185,5)\n",
    "for K in K_range:\n",
    "    \n",
    "    # Build the model (cluster the data)\n",
    "    clusters = KMeans.train(parsedData_pca, K, maxIterations=10, initializationMode=\"random\")\n",
    "    \n",
    "    WSSSE_pca = parsedData_pca.map(lambda point: error(point)).reduce(lambda x, y: x + y)\n",
    "    print(\"====== k:\"+str(K)+\" -- Within Set Sum of Squared Error = \" + str(WSSSE_pca) + \"=======\")\n",
    "    WSSSE_list_pca.append(WSSSE_pca)"
   ]
  },
  {
   "cell_type": "code",
   "execution_count": 101,
   "metadata": {
    "collapsed": true
   },
   "outputs": [],
   "source": [
    "WSSSE_data_pca = {'K':K_range, \"WSSSE\": WSSSE_list_pca}\n",
    "WSSSE_pca_DF = pd.DataFrame(WSSSE_data_pca)"
   ]
  },
  {
   "cell_type": "code",
   "execution_count": 212,
   "metadata": {},
   "outputs": [
    {
     "data": {
      "text/plain": [
       "<matplotlib.figure.Figure at 0x126c145f8>"
      ]
     },
     "metadata": {},
     "output_type": "display_data"
    },
    {
     "data": {
      "image/png": "[encoded data removed]",
      "text/plain": [
       "<matplotlib.figure.Figure at 0x121181a58>"
      ]
     },
     "metadata": {},
     "output_type": "display_data"
    }
   ],
   "source": [
    "import matplotlib.pyplot as plt\n",
    "fig = plt.figure()\n",
    "WSSSE_pca_DF.plot(x='K', y='WSSSE')\n",
    "plt.axvline(40, \n",
    "            color='darkorange', linestyle='dashed', linewidth=2)\n",
    "plt.xlabel('Clusters')\n",
    "plt.title('Within Set Sum of Squared Error of K-Means')\n",
    "plt.show()\n",
    "#fig.set_dpi(200)\n",
    "#fig.savefig(\"../figs/WSSSE_pca.png\")"
   ]
  },
  {
   "cell_type": "markdown",
   "metadata": {},
   "source": [
    "The optimal k is usually one where there is an “elbow” in the WSSSE graph. So choose k = 40."
   ]
  },
  {
   "cell_type": "markdown",
   "metadata": {},
   "source": [
    "### Run K-Means with optimal K=40"
   ]
  },
  {
   "cell_type": "code",
   "execution_count": 104,
   "metadata": {},
   "outputs": [],
   "source": [
    "K_opt = 40\n",
    "clusters = KMeans.train(parsedData_pca, K_opt, maxIterations=10, initializationMode=\"random\")\n",
    "#clusters.save(sc, \"../output/KMeansModel_pca\")\n",
    "#clusters = KMeansModel.load(sc, \"../output/KMeansModel_pca\")\n"
   ]
  },
  {
   "cell_type": "markdown",
   "metadata": {},
   "source": [
    "### Get the cluster labels"
   ]
  },
  {
   "cell_type": "code",
   "execution_count": 105,
   "metadata": {
    "collapsed": true
   },
   "outputs": [],
   "source": [
    "predicted_clusters = clusters.predict(parsedData_pca)\n",
    "# Into a list\n",
    "cluster_results = [ ]\n",
    "for row in predicted_clusters.collect():\n",
    "    cluster_results.append(row)"
   ]
  },
  {
   "cell_type": "markdown",
   "metadata": {},
   "source": [
    "### Get the centers for each user"
   ]
  },
  {
   "cell_type": "code",
   "execution_count": 158,
   "metadata": {},
   "outputs": [],
   "source": [
    "def GetCenter(point):\n",
    "    center = clusters.centers[clusters.predict(point)]\n",
    "    return center\n",
    "\n",
    "centerRDD = parsedData_pca.map(lambda point: GetCenter(point))\n",
    "\n",
    "center_results = [ ]\n",
    "for row in centerRDD.collect():\n",
    "    center_results.append(row)\n",
    "    \n",
    "center_results = pd.DataFrame(center_results,columns=['x','y'])"
   ]
  },
  {
   "cell_type": "markdown",
   "metadata": {},
   "source": [
    "### KMeans Results Summary"
   ]
  },
  {
   "cell_type": "code",
   "execution_count": 193,
   "metadata": {},
   "outputs": [
    {
     "data": {
      "text/html": [
       "<div>\n",
       "<style>\n",
       "    .dataframe thead tr:only-child th {\n",
       "        text-align: right;\n",
       "    }\n",
       "\n",
       "    .dataframe thead th {\n",
       "        text-align: left;\n",
       "    }\n",
       "\n",
       "    .dataframe tbody tr th {\n",
       "        vertical-align: top;\n",
       "    }\n",
       "</style>\n",
       "<table border=\"1\" class=\"dataframe\">\n",
       "  <thead>\n",
       "    <tr style=\"text-align: right;\">\n",
       "      <th></th>\n",
       "      <th>0</th>\n",
       "      <th>1</th>\n",
       "      <th>user_id</th>\n",
       "      <th>x</th>\n",
       "      <th>y</th>\n",
       "      <th>clusters</th>\n",
       "    </tr>\n",
       "  </thead>\n",
       "  <tbody>\n",
       "    <tr>\n",
       "      <th>0</th>\n",
       "      <td>30.851829</td>\n",
       "      <td>-5.844094</td>\n",
       "      <td>37</td>\n",
       "      <td>18.937511</td>\n",
       "      <td>1.034768</td>\n",
       "      <td>27</td>\n",
       "    </tr>\n",
       "    <tr>\n",
       "      <th>1</th>\n",
       "      <td>-10.814946</td>\n",
       "      <td>1.914740</td>\n",
       "      <td>43</td>\n",
       "      <td>-6.878718</td>\n",
       "      <td>-1.092668</td>\n",
       "      <td>10</td>\n",
       "    </tr>\n",
       "    <tr>\n",
       "      <th>2</th>\n",
       "      <td>-111.061957</td>\n",
       "      <td>4.096512</td>\n",
       "      <td>49</td>\n",
       "      <td>-114.330476</td>\n",
       "      <td>5.734811</td>\n",
       "      <td>19</td>\n",
       "    </tr>\n",
       "    <tr>\n",
       "      <th>3</th>\n",
       "      <td>-77.806557</td>\n",
       "      <td>0.083436</td>\n",
       "      <td>62</td>\n",
       "      <td>-77.620445</td>\n",
       "      <td>-4.536559</td>\n",
       "      <td>5</td>\n",
       "    </tr>\n",
       "    <tr>\n",
       "      <th>4</th>\n",
       "      <td>-22.860360</td>\n",
       "      <td>2.186689</td>\n",
       "      <td>64</td>\n",
       "      <td>-29.714480</td>\n",
       "      <td>-1.264748</td>\n",
       "      <td>8</td>\n",
       "    </tr>\n",
       "  </tbody>\n",
       "</table>\n",
       "</div>"
      ],
      "text/plain": [
       "            0         1  user_id           x         y  clusters\n",
       "0   30.851829 -5.844094       37   18.937511  1.034768        27\n",
       "1  -10.814946  1.914740       43   -6.878718 -1.092668        10\n",
       "2 -111.061957  4.096512       49 -114.330476  5.734811        19\n",
       "3  -77.806557  0.083436       62  -77.620445 -4.536559         5\n",
       "4  -22.860360  2.186689       64  -29.714480 -1.264748         8"
      ]
     },
     "execution_count": 193,
     "metadata": {},
     "output_type": "execute_result"
    }
   ],
   "source": [
    "kmeans_summary = center_results\n",
    "kmeans_summary['clusters'] = cluster_results\n",
    "kmeans_summary['user_id'] = user_habit_features['user_id']\n",
    "\n",
    "kmeans_summary = pd.merge(pca_df, kmeans_summary ,how='inner', on='user_id')\n",
    "#kmeans_summary.to_csv(\"../output/kmeans_summary.csv\", header=True)\n",
    "kmeans_summary.head()"
   ]
  },
  {
   "cell_type": "markdown",
   "metadata": {},
   "source": [
    "### Visualization of Kmeans Results"
   ]
  },
  {
   "cell_type": "code",
   "execution_count": 201,
   "metadata": {},
   "outputs": [
    {
     "data": {
      "image/png": "[encoded data removed]",
      "text/plain": [
       "<matplotlib.figure.Figure at 0x121040c50>"
      ]
     },
     "metadata": {},
     "output_type": "display_data"
    }
   ],
   "source": [
    "import numpy as np\n",
    "import seaborn as sns\n",
    "import matplotlib.pyplot as plt\n",
    "\n",
    "fig = plt.figure()\n",
    "\n",
    "# Unique category labels for clusters\n",
    "color_labels = kmeans_summary['clusters'].unique()\n",
    "\n",
    "# List of RGB triplets\n",
    "rgb_values = sns.color_palette(\"Set2\", 40)\n",
    "\n",
    "# Map label to RGB\n",
    "color_map = dict(zip(color_labels, rgb_values))\n",
    "\n",
    "# Finally use the mapped values\n",
    "plt.scatter(kmeans_summary['x'], kmeans_summary['y'], c=kmeans_summary['clusters'].map(color_map))\n",
    "plt.title(\"Centers for K-Means Clusters\")\n",
    "plt.show()\n",
    "\n",
    "#fig.set_dpi(200)\n",
    "#fig.savefig('../figs/cluster_centers.png')"
   ]
  },
  {
   "cell_type": "code",
   "execution_count": 266,
   "metadata": {},
   "outputs": [
    {
     "data": {
      "image/png": "[encoded data removed]",
      "text/plain": [
       "<matplotlib.figure.Figure at 0x115ce4710>"
      ]
     },
     "metadata": {},
     "output_type": "display_data"
    }
   ],
   "source": [
    "import numpy as np\n",
    "import seaborn as sns\n",
    "import matplotlib.pyplot as plt\n",
    "\n",
    "fig = plt.figure()\n",
    "\n",
    "# Unique category labels for clusters\n",
    "color_labels = kmeans_summary['clusters'].unique()\n",
    "\n",
    "# List of RGB triplets\n",
    "rgb_values = sns.color_palette(\"Set2\", 40)\n",
    "\n",
    "# Map label to RGB\n",
    "color_map = dict(zip(color_labels, rgb_values))\n",
    "\n",
    "\n",
    "# Finally use the mapped values\n",
    "plt.scatter(kmeans_summary[0], kmeans_summary[1], c=kmeans_summary['clusters'].map(color_map), s = 0.5)\n",
    "plt.title(\"K-Means Clusters\")\n",
    "plt.show()\n",
    "\n",
    "#fig.set_dpi(300)\n",
    "#fig.savefig('../figs/clusters.png')"
   ]
  },
  {
   "cell_type": "code",
   "execution_count": 240,
   "metadata": {},
   "outputs": [],
   "source": [
    "import matplotlib.pyplot as plt\n",
    "from matplotlib import colors as mcolors\n",
    "\n",
    "\n",
    "colors = dict(mcolors.BASE_COLORS, **mcolors.CSS4_COLORS)\n",
    "# Sort colors by hue, saturation, value and name.\n",
    "by_hsv = sorted((tuple(mcolors.rgb_to_hsv(mcolors.to_rgba(color)[:3])), name)\n",
    "                for name, color in colors.items())\n",
    "sorted_names = [name for hsv, name in by_hsv]\n",
    "\n",
    "mycolor=sorted_names[3::4]\n",
    "col_dic = {}\n",
    "i = 0\n",
    "for c in mycolor:\n",
    "    col_dic[i] = c\n",
    "    i += 1\n",
    "col_dic[39]='black'"
   ]
  },
  {
   "cell_type": "code",
   "execution_count": 253,
   "metadata": {},
   "outputs": [],
   "source": [
    "col_df = pd.DataFrame.from_dict(col_dic,'index')\n",
    "col_df['clusters']=range(40)\n",
    "col_df.columns = ['color', 'clusters']"
   ]
  },
  {
   "cell_type": "code",
   "execution_count": 257,
   "metadata": {},
   "outputs": [],
   "source": [
    "kmeans_colors = pd.merge(kmeans_summary,col_df,how='left', on='clusters')"
   ]
  },
  {
   "cell_type": "code",
   "execution_count": 267,
   "metadata": {},
   "outputs": [
    {
     "data": {
      "text/html": [
       "<div>\n",
       "<style>\n",
       "    .dataframe thead tr:only-child th {\n",
       "        text-align: right;\n",
       "    }\n",
       "\n",
       "    .dataframe thead th {\n",
       "        text-align: left;\n",
       "    }\n",
       "\n",
       "    .dataframe tbody tr th {\n",
       "        vertical-align: top;\n",
       "    }\n",
       "</style>\n",
       "<table border=\"1\" class=\"dataframe\">\n",
       "  <thead>\n",
       "    <tr style=\"text-align: right;\">\n",
       "      <th></th>\n",
       "      <th>0</th>\n",
       "      <th>1</th>\n",
       "      <th>user_id</th>\n",
       "      <th>x</th>\n",
       "      <th>y</th>\n",
       "      <th>clusters</th>\n",
       "      <th>color</th>\n",
       "    </tr>\n",
       "  </thead>\n",
       "  <tbody>\n",
       "    <tr>\n",
       "      <th>0</th>\n",
       "      <td>30.851829</td>\n",
       "      <td>-5.844094</td>\n",
       "      <td>37</td>\n",
       "      <td>18.937511</td>\n",
       "      <td>1.034768</td>\n",
       "      <td>27</td>\n",
       "      <td>steelblue</td>\n",
       "    </tr>\n",
       "    <tr>\n",
       "      <th>1</th>\n",
       "      <td>-10.814946</td>\n",
       "      <td>1.914740</td>\n",
       "      <td>43</td>\n",
       "      <td>-6.878718</td>\n",
       "      <td>-1.092668</td>\n",
       "      <td>10</td>\n",
       "      <td>antiquewhite</td>\n",
       "    </tr>\n",
       "    <tr>\n",
       "      <th>2</th>\n",
       "      <td>-111.061957</td>\n",
       "      <td>4.096512</td>\n",
       "      <td>49</td>\n",
       "      <td>-114.330476</td>\n",
       "      <td>5.734811</td>\n",
       "      <td>19</td>\n",
       "      <td>limegreen</td>\n",
       "    </tr>\n",
       "    <tr>\n",
       "      <th>3</th>\n",
       "      <td>-77.806557</td>\n",
       "      <td>0.083436</td>\n",
       "      <td>62</td>\n",
       "      <td>-77.620445</td>\n",
       "      <td>-4.536559</td>\n",
       "      <td>5</td>\n",
       "      <td>r</td>\n",
       "    </tr>\n",
       "    <tr>\n",
       "      <th>4</th>\n",
       "      <td>-22.860360</td>\n",
       "      <td>2.186689</td>\n",
       "      <td>64</td>\n",
       "      <td>-29.714480</td>\n",
       "      <td>-1.264748</td>\n",
       "      <td>8</td>\n",
       "      <td>saddlebrown</td>\n",
       "    </tr>\n",
       "    <tr>\n",
       "      <th>5</th>\n",
       "      <td>-110.602221</td>\n",
       "      <td>-3.929755</td>\n",
       "      <td>72</td>\n",
       "      <td>-109.716246</td>\n",
       "      <td>-1.004063</td>\n",
       "      <td>16</td>\n",
       "      <td>yellow</td>\n",
       "    </tr>\n",
       "    <tr>\n",
       "      <th>6</th>\n",
       "      <td>109.146611</td>\n",
       "      <td>7.856530</td>\n",
       "      <td>86</td>\n",
       "      <td>104.962112</td>\n",
       "      <td>-0.541459</td>\n",
       "      <td>31</td>\n",
       "      <td>b</td>\n",
       "    </tr>\n",
       "    <tr>\n",
       "      <th>7</th>\n",
       "      <td>81.577560</td>\n",
       "      <td>-0.513296</td>\n",
       "      <td>89</td>\n",
       "      <td>78.011492</td>\n",
       "      <td>3.602234</td>\n",
       "      <td>6</td>\n",
       "      <td>tomato</td>\n",
       "    </tr>\n",
       "    <tr>\n",
       "      <th>8</th>\n",
       "      <td>-126.409003</td>\n",
       "      <td>-7.409391</td>\n",
       "      <td>93</td>\n",
       "      <td>-130.759966</td>\n",
       "      <td>-6.613759</td>\n",
       "      <td>18</td>\n",
       "      <td>darkseagreen</td>\n",
       "    </tr>\n",
       "    <tr>\n",
       "      <th>9</th>\n",
       "      <td>-99.161415</td>\n",
       "      <td>5.454204</td>\n",
       "      <td>102</td>\n",
       "      <td>-96.693934</td>\n",
       "      <td>2.716584</td>\n",
       "      <td>15</td>\n",
       "      <td>lightyellow</td>\n",
       "    </tr>\n",
       "    <tr>\n",
       "      <th>10</th>\n",
       "      <td>-101.996609</td>\n",
       "      <td>2.293568</td>\n",
       "      <td>111</td>\n",
       "      <td>-104.719073</td>\n",
       "      <td>3.881595</td>\n",
       "      <td>7</td>\n",
       "      <td>lightsalmon</td>\n",
       "    </tr>\n",
       "    <tr>\n",
       "      <th>11</th>\n",
       "      <td>-152.918514</td>\n",
       "      <td>-1.291141</td>\n",
       "      <td>113</td>\n",
       "      <td>-148.096209</td>\n",
       "      <td>-1.115700</td>\n",
       "      <td>36</td>\n",
       "      <td>orchid</td>\n",
       "    </tr>\n",
       "    <tr>\n",
       "      <th>12</th>\n",
       "      <td>-37.974713</td>\n",
       "      <td>4.949541</td>\n",
       "      <td>117</td>\n",
       "      <td>-29.714480</td>\n",
       "      <td>-1.264748</td>\n",
       "      <td>8</td>\n",
       "      <td>saddlebrown</td>\n",
       "    </tr>\n",
       "    <tr>\n",
       "      <th>13</th>\n",
       "      <td>-78.945651</td>\n",
       "      <td>2.090048</td>\n",
       "      <td>124</td>\n",
       "      <td>-77.620445</td>\n",
       "      <td>-4.536559</td>\n",
       "      <td>5</td>\n",
       "      <td>r</td>\n",
       "    </tr>\n",
       "    <tr>\n",
       "      <th>14</th>\n",
       "      <td>-132.020276</td>\n",
       "      <td>0.785529</td>\n",
       "      <td>135</td>\n",
       "      <td>-134.896568</td>\n",
       "      <td>-0.030691</td>\n",
       "      <td>34</td>\n",
       "      <td>thistle</td>\n",
       "    </tr>\n",
       "    <tr>\n",
       "      <th>15</th>\n",
       "      <td>211.977996</td>\n",
       "      <td>-16.184191</td>\n",
       "      <td>142</td>\n",
       "      <td>227.036478</td>\n",
       "      <td>-5.020718</td>\n",
       "      <td>26</td>\n",
       "      <td>lightblue</td>\n",
       "    </tr>\n",
       "    <tr>\n",
       "      <th>16</th>\n",
       "      <td>-94.576337</td>\n",
       "      <td>-3.693271</td>\n",
       "      <td>147</td>\n",
       "      <td>-96.693934</td>\n",
       "      <td>2.716584</td>\n",
       "      <td>15</td>\n",
       "      <td>lightyellow</td>\n",
       "    </tr>\n",
       "    <tr>\n",
       "      <th>17</th>\n",
       "      <td>106.919597</td>\n",
       "      <td>10.210899</td>\n",
       "      <td>160</td>\n",
       "      <td>104.962112</td>\n",
       "      <td>-0.541459</td>\n",
       "      <td>31</td>\n",
       "      <td>b</td>\n",
       "    </tr>\n",
       "    <tr>\n",
       "      <th>18</th>\n",
       "      <td>-80.614718</td>\n",
       "      <td>-3.657391</td>\n",
       "      <td>163</td>\n",
       "      <td>-77.620445</td>\n",
       "      <td>-4.536559</td>\n",
       "      <td>5</td>\n",
       "      <td>r</td>\n",
       "    </tr>\n",
       "    <tr>\n",
       "      <th>19</th>\n",
       "      <td>-73.211013</td>\n",
       "      <td>6.972734</td>\n",
       "      <td>169</td>\n",
       "      <td>-66.888960</td>\n",
       "      <td>2.169628</td>\n",
       "      <td>14</td>\n",
       "      <td>palegoldenrod</td>\n",
       "    </tr>\n",
       "    <tr>\n",
       "      <th>20</th>\n",
       "      <td>-115.120965</td>\n",
       "      <td>4.307184</td>\n",
       "      <td>176</td>\n",
       "      <td>-114.330476</td>\n",
       "      <td>5.734811</td>\n",
       "      <td>19</td>\n",
       "      <td>limegreen</td>\n",
       "    </tr>\n",
       "    <tr>\n",
       "      <th>21</th>\n",
       "      <td>-118.156867</td>\n",
       "      <td>5.027377</td>\n",
       "      <td>185</td>\n",
       "      <td>-114.330476</td>\n",
       "      <td>5.734811</td>\n",
       "      <td>19</td>\n",
       "      <td>limegreen</td>\n",
       "    </tr>\n",
       "    <tr>\n",
       "      <th>22</th>\n",
       "      <td>-116.268267</td>\n",
       "      <td>6.983289</td>\n",
       "      <td>192</td>\n",
       "      <td>-114.330476</td>\n",
       "      <td>5.734811</td>\n",
       "      <td>19</td>\n",
       "      <td>limegreen</td>\n",
       "    </tr>\n",
       "    <tr>\n",
       "      <th>23</th>\n",
       "      <td>30.290753</td>\n",
       "      <td>-41.340408</td>\n",
       "      <td>195</td>\n",
       "      <td>28.396968</td>\n",
       "      <td>-22.910725</td>\n",
       "      <td>12</td>\n",
       "      <td>oldlace</td>\n",
       "    </tr>\n",
       "    <tr>\n",
       "      <th>24</th>\n",
       "      <td>-104.784150</td>\n",
       "      <td>-2.403839</td>\n",
       "      <td>201</td>\n",
       "      <td>-109.716246</td>\n",
       "      <td>-1.004063</td>\n",
       "      <td>16</td>\n",
       "      <td>yellow</td>\n",
       "    </tr>\n",
       "    <tr>\n",
       "      <th>25</th>\n",
       "      <td>-146.943187</td>\n",
       "      <td>-1.683013</td>\n",
       "      <td>203</td>\n",
       "      <td>-148.096209</td>\n",
       "      <td>-1.115700</td>\n",
       "      <td>36</td>\n",
       "      <td>orchid</td>\n",
       "    </tr>\n",
       "    <tr>\n",
       "      <th>26</th>\n",
       "      <td>-108.538578</td>\n",
       "      <td>-5.266163</td>\n",
       "      <td>205</td>\n",
       "      <td>-109.716246</td>\n",
       "      <td>-1.004063</td>\n",
       "      <td>16</td>\n",
       "      <td>yellow</td>\n",
       "    </tr>\n",
       "    <tr>\n",
       "      <th>27</th>\n",
       "      <td>-64.235196</td>\n",
       "      <td>-8.098138</td>\n",
       "      <td>208</td>\n",
       "      <td>-66.888960</td>\n",
       "      <td>2.169628</td>\n",
       "      <td>14</td>\n",
       "      <td>palegoldenrod</td>\n",
       "    </tr>\n",
       "    <tr>\n",
       "      <th>28</th>\n",
       "      <td>1321.045094</td>\n",
       "      <td>6.796069</td>\n",
       "      <td>210</td>\n",
       "      <td>1342.564903</td>\n",
       "      <td>32.048240</td>\n",
       "      <td>32</td>\n",
       "      <td>mediumslateblue</td>\n",
       "    </tr>\n",
       "    <tr>\n",
       "      <th>29</th>\n",
       "      <td>-128.557503</td>\n",
       "      <td>-5.202148</td>\n",
       "      <td>212</td>\n",
       "      <td>-130.759966</td>\n",
       "      <td>-6.613759</td>\n",
       "      <td>18</td>\n",
       "      <td>darkseagreen</td>\n",
       "    </tr>\n",
       "    <tr>\n",
       "      <th>30</th>\n",
       "      <td>-101.821498</td>\n",
       "      <td>0.007867</td>\n",
       "      <td>230</td>\n",
       "      <td>-104.719073</td>\n",
       "      <td>3.881595</td>\n",
       "      <td>7</td>\n",
       "      <td>lightsalmon</td>\n",
       "    </tr>\n",
       "    <tr>\n",
       "      <th>31</th>\n",
       "      <td>43.666189</td>\n",
       "      <td>11.635347</td>\n",
       "      <td>238</td>\n",
       "      <td>47.997069</td>\n",
       "      <td>1.267920</td>\n",
       "      <td>13</td>\n",
       "      <td>cornsilk</td>\n",
       "    </tr>\n",
       "    <tr>\n",
       "      <th>32</th>\n",
       "      <td>-113.149990</td>\n",
       "      <td>4.426816</td>\n",
       "      <td>239</td>\n",
       "      <td>-114.330476</td>\n",
       "      <td>5.734811</td>\n",
       "      <td>19</td>\n",
       "      <td>limegreen</td>\n",
       "    </tr>\n",
       "    <tr>\n",
       "      <th>33</th>\n",
       "      <td>-111.283540</td>\n",
       "      <td>7.408737</td>\n",
       "      <td>245</td>\n",
       "      <td>-114.330476</td>\n",
       "      <td>5.734811</td>\n",
       "      <td>19</td>\n",
       "      <td>limegreen</td>\n",
       "    </tr>\n",
       "    <tr>\n",
       "      <th>34</th>\n",
       "      <td>-101.695483</td>\n",
       "      <td>-3.767749</td>\n",
       "      <td>261</td>\n",
       "      <td>-96.693934</td>\n",
       "      <td>2.716584</td>\n",
       "      <td>15</td>\n",
       "      <td>lightyellow</td>\n",
       "    </tr>\n",
       "    <tr>\n",
       "      <th>35</th>\n",
       "      <td>533.108017</td>\n",
       "      <td>21.980158</td>\n",
       "      <td>264</td>\n",
       "      <td>586.031276</td>\n",
       "      <td>-1.722945</td>\n",
       "      <td>30</td>\n",
       "      <td>midnightblue</td>\n",
       "    </tr>\n",
       "    <tr>\n",
       "      <th>36</th>\n",
       "      <td>165.437311</td>\n",
       "      <td>20.226434</td>\n",
       "      <td>267</td>\n",
       "      <td>172.663552</td>\n",
       "      <td>-2.711268</td>\n",
       "      <td>38</td>\n",
       "      <td>lightpink</td>\n",
       "    </tr>\n",
       "    <tr>\n",
       "      <th>37</th>\n",
       "      <td>-90.930716</td>\n",
       "      <td>-13.172740</td>\n",
       "      <td>270</td>\n",
       "      <td>-95.368617</td>\n",
       "      <td>-10.957848</td>\n",
       "      <td>28</td>\n",
       "      <td>lightslategrey</td>\n",
       "    </tr>\n",
       "    <tr>\n",
       "      <th>38</th>\n",
       "      <td>-92.877561</td>\n",
       "      <td>0.878460</td>\n",
       "      <td>272</td>\n",
       "      <td>-96.693934</td>\n",
       "      <td>2.716584</td>\n",
       "      <td>15</td>\n",
       "      <td>lightyellow</td>\n",
       "    </tr>\n",
       "    <tr>\n",
       "      <th>39</th>\n",
       "      <td>112.801449</td>\n",
       "      <td>-46.002810</td>\n",
       "      <td>278</td>\n",
       "      <td>110.198994</td>\n",
       "      <td>-35.665904</td>\n",
       "      <td>21</td>\n",
       "      <td>mintcream</td>\n",
       "    </tr>\n",
       "    <tr>\n",
       "      <th>40</th>\n",
       "      <td>199.883031</td>\n",
       "      <td>14.631408</td>\n",
       "      <td>284</td>\n",
       "      <td>172.663552</td>\n",
       "      <td>-2.711268</td>\n",
       "      <td>38</td>\n",
       "      <td>lightpink</td>\n",
       "    </tr>\n",
       "    <tr>\n",
       "      <th>41</th>\n",
       "      <td>-120.267683</td>\n",
       "      <td>6.399969</td>\n",
       "      <td>285</td>\n",
       "      <td>-123.808942</td>\n",
       "      <td>5.566803</td>\n",
       "      <td>23</td>\n",
       "      <td>lightcyan</td>\n",
       "    </tr>\n",
       "    <tr>\n",
       "      <th>42</th>\n",
       "      <td>-44.085754</td>\n",
       "      <td>5.759194</td>\n",
       "      <td>293</td>\n",
       "      <td>-49.935302</td>\n",
       "      <td>-0.198480</td>\n",
       "      <td>2</td>\n",
       "      <td>gainsboro</td>\n",
       "    </tr>\n",
       "    <tr>\n",
       "      <th>43</th>\n",
       "      <td>633.663267</td>\n",
       "      <td>-40.235469</td>\n",
       "      <td>313</td>\n",
       "      <td>586.031276</td>\n",
       "      <td>-1.722945</td>\n",
       "      <td>30</td>\n",
       "      <td>midnightblue</td>\n",
       "    </tr>\n",
       "    <tr>\n",
       "      <th>44</th>\n",
       "      <td>-124.065459</td>\n",
       "      <td>1.916922</td>\n",
       "      <td>315</td>\n",
       "      <td>-123.942042</td>\n",
       "      <td>-1.514451</td>\n",
       "      <td>3</td>\n",
       "      <td>snow</td>\n",
       "    </tr>\n",
       "    <tr>\n",
       "      <th>45</th>\n",
       "      <td>-118.162315</td>\n",
       "      <td>4.121823</td>\n",
       "      <td>317</td>\n",
       "      <td>-118.098575</td>\n",
       "      <td>0.710384</td>\n",
       "      <td>11</td>\n",
       "      <td>papayawhip</td>\n",
       "    </tr>\n",
       "    <tr>\n",
       "      <th>46</th>\n",
       "      <td>-64.757609</td>\n",
       "      <td>-0.259391</td>\n",
       "      <td>324</td>\n",
       "      <td>-66.888960</td>\n",
       "      <td>2.169628</td>\n",
       "      <td>14</td>\n",
       "      <td>palegoldenrod</td>\n",
       "    </tr>\n",
       "    <tr>\n",
       "      <th>47</th>\n",
       "      <td>-124.986991</td>\n",
       "      <td>2.212868</td>\n",
       "      <td>329</td>\n",
       "      <td>-123.808942</td>\n",
       "      <td>5.566803</td>\n",
       "      <td>23</td>\n",
       "      <td>lightcyan</td>\n",
       "    </tr>\n",
       "    <tr>\n",
       "      <th>48</th>\n",
       "      <td>-18.612515</td>\n",
       "      <td>-0.097022</td>\n",
       "      <td>342</td>\n",
       "      <td>-29.714480</td>\n",
       "      <td>-1.264748</td>\n",
       "      <td>8</td>\n",
       "      <td>saddlebrown</td>\n",
       "    </tr>\n",
       "    <tr>\n",
       "      <th>49</th>\n",
       "      <td>13.368284</td>\n",
       "      <td>-0.164871</td>\n",
       "      <td>350</td>\n",
       "      <td>18.937511</td>\n",
       "      <td>1.034768</td>\n",
       "      <td>27</td>\n",
       "      <td>steelblue</td>\n",
       "    </tr>\n",
       "  </tbody>\n",
       "</table>\n",
       "</div>"
      ],
      "text/plain": [
       "              0          1  user_id            x          y  clusters  \\\n",
       "0     30.851829  -5.844094       37    18.937511   1.034768        27   \n",
       "1    -10.814946   1.914740       43    -6.878718  -1.092668        10   \n",
       "2   -111.061957   4.096512       49  -114.330476   5.734811        19   \n",
       "3    -77.806557   0.083436       62   -77.620445  -4.536559         5   \n",
       "4    -22.860360   2.186689       64   -29.714480  -1.264748         8   \n",
       "5   -110.602221  -3.929755       72  -109.716246  -1.004063        16   \n",
       "6    109.146611   7.856530       86   104.962112  -0.541459        31   \n",
       "7     81.577560  -0.513296       89    78.011492   3.602234         6   \n",
       "8   -126.409003  -7.409391       93  -130.759966  -6.613759        18   \n",
       "9    -99.161415   5.454204      102   -96.693934   2.716584        15   \n",
       "10  -101.996609   2.293568      111  -104.719073   3.881595         7   \n",
       "11  -152.918514  -1.291141      113  -148.096209  -1.115700        36   \n",
       "12   -37.974713   4.949541      117   -29.714480  -1.264748         8   \n",
       "13   -78.945651   2.090048      124   -77.620445  -4.536559         5   \n",
       "14  -132.020276   0.785529      135  -134.896568  -0.030691        34   \n",
       "15   211.977996 -16.184191      142   227.036478  -5.020718        26   \n",
       "16   -94.576337  -3.693271      147   -96.693934   2.716584        15   \n",
       "17   106.919597  10.210899      160   104.962112  -0.541459        31   \n",
       "18   -80.614718  -3.657391      163   -77.620445  -4.536559         5   \n",
       "19   -73.211013   6.972734      169   -66.888960   2.169628        14   \n",
       "20  -115.120965   4.307184      176  -114.330476   5.734811        19   \n",
       "21  -118.156867   5.027377      185  -114.330476   5.734811        19   \n",
       "22  -116.268267   6.983289      192  -114.330476   5.734811        19   \n",
       "23    30.290753 -41.340408      195    28.396968 -22.910725        12   \n",
       "24  -104.784150  -2.403839      201  -109.716246  -1.004063        16   \n",
       "25  -146.943187  -1.683013      203  -148.096209  -1.115700        36   \n",
       "26  -108.538578  -5.266163      205  -109.716246  -1.004063        16   \n",
       "27   -64.235196  -8.098138      208   -66.888960   2.169628        14   \n",
       "28  1321.045094   6.796069      210  1342.564903  32.048240        32   \n",
       "29  -128.557503  -5.202148      212  -130.759966  -6.613759        18   \n",
       "30  -101.821498   0.007867      230  -104.719073   3.881595         7   \n",
       "31    43.666189  11.635347      238    47.997069   1.267920        13   \n",
       "32  -113.149990   4.426816      239  -114.330476   5.734811        19   \n",
       "33  -111.283540   7.408737      245  -114.330476   5.734811        19   \n",
       "34  -101.695483  -3.767749      261   -96.693934   2.716584        15   \n",
       "35   533.108017  21.980158      264   586.031276  -1.722945        30   \n",
       "36   165.437311  20.226434      267   172.663552  -2.711268        38   \n",
       "37   -90.930716 -13.172740      270   -95.368617 -10.957848        28   \n",
       "38   -92.877561   0.878460      272   -96.693934   2.716584        15   \n",
       "39   112.801449 -46.002810      278   110.198994 -35.665904        21   \n",
       "40   199.883031  14.631408      284   172.663552  -2.711268        38   \n",
       "41  -120.267683   6.399969      285  -123.808942   5.566803        23   \n",
       "42   -44.085754   5.759194      293   -49.935302  -0.198480         2   \n",
       "43   633.663267 -40.235469      313   586.031276  -1.722945        30   \n",
       "44  -124.065459   1.916922      315  -123.942042  -1.514451         3   \n",
       "45  -118.162315   4.121823      317  -118.098575   0.710384        11   \n",
       "46   -64.757609  -0.259391      324   -66.888960   2.169628        14   \n",
       "47  -124.986991   2.212868      329  -123.808942   5.566803        23   \n",
       "48   -18.612515  -0.097022      342   -29.714480  -1.264748         8   \n",
       "49    13.368284  -0.164871      350    18.937511   1.034768        27   \n",
       "\n",
       "              color  \n",
       "0         steelblue  \n",
       "1      antiquewhite  \n",
       "2         limegreen  \n",
       "3                 r  \n",
       "4       saddlebrown  \n",
       "5            yellow  \n",
       "6                 b  \n",
       "7            tomato  \n",
       "8      darkseagreen  \n",
       "9       lightyellow  \n",
       "10      lightsalmon  \n",
       "11           orchid  \n",
       "12      saddlebrown  \n",
       "13                r  \n",
       "14          thistle  \n",
       "15        lightblue  \n",
       "16      lightyellow  \n",
       "17                b  \n",
       "18                r  \n",
       "19    palegoldenrod  \n",
       "20        limegreen  \n",
       "21        limegreen  \n",
       "22        limegreen  \n",
       "23          oldlace  \n",
       "24           yellow  \n",
       "25           orchid  \n",
       "26           yellow  \n",
       "27    palegoldenrod  \n",
       "28  mediumslateblue  \n",
       "29     darkseagreen  \n",
       "30      lightsalmon  \n",
       "31         cornsilk  \n",
       "32        limegreen  \n",
       "33        limegreen  \n",
       "34      lightyellow  \n",
       "35     midnightblue  \n",
       "36        lightpink  \n",
       "37   lightslategrey  \n",
       "38      lightyellow  \n",
       "39        mintcream  \n",
       "40        lightpink  \n",
       "41        lightcyan  \n",
       "42        gainsboro  \n",
       "43     midnightblue  \n",
       "44             snow  \n",
       "45       papayawhip  \n",
       "46    palegoldenrod  \n",
       "47        lightcyan  \n",
       "48      saddlebrown  \n",
       "49        steelblue  "
      ]
     },
     "execution_count": 267,
     "metadata": {},
     "output_type": "execute_result"
    }
   ],
   "source": [
    "kmeans_colors.head(50)"
   ]
  },
  {
   "cell_type": "code",
   "execution_count": null,
   "metadata": {
    "collapsed": true
   },
   "outputs": [],
   "source": []
  },
  {
   "cell_type": "code",
   "execution_count": 265,
   "metadata": {},
   "outputs": [
    {
     "data": {
      "image/png": "[encoded data removed]",
      "text/plain": [
       "<matplotlib.figure.Figure at 0x1163fd2e8>"
      ]
     },
     "metadata": {},
     "output_type": "display_data"
    }
   ],
   "source": [
    "plt.scatter(kmeans_colors[0],kmeans_colors[1],color=kmeans_colors['color'])\n",
    "plt.show()"
   ]
  },
  {
   "cell_type": "code",
   "execution_count": null,
   "metadata": {
    "collapsed": true
   },
   "outputs": [],
   "source": []
  },
  {
   "cell_type": "code",
   "execution_count": null,
   "metadata": {
    "collapsed": true
   },
   "outputs": [],
   "source": []
  },
  {
   "cell_type": "code",
   "execution_count": null,
   "metadata": {
    "collapsed": true
   },
   "outputs": [],
   "source": []
  },
  {
   "cell_type": "code",
   "execution_count": null,
   "metadata": {
    "collapsed": true
   },
   "outputs": [],
   "source": []
  },
  {
   "cell_type": "code",
   "execution_count": null,
   "metadata": {
    "collapsed": true
   },
   "outputs": [],
   "source": []
  },
  {
   "cell_type": "code",
   "execution_count": null,
   "metadata": {
    "collapsed": true
   },
   "outputs": [],
   "source": []
  },
  {
   "cell_type": "code",
   "execution_count": 252,
   "metadata": {},
   "outputs": [],
   "source": []
  },
  {
   "cell_type": "code",
   "execution_count": null,
   "metadata": {
    "collapsed": true
   },
   "outputs": [],
   "source": []
  },
  {
   "cell_type": "code",
   "execution_count": null,
   "metadata": {
    "collapsed": true
   },
   "outputs": [],
   "source": []
  },
  {
   "cell_type": "code",
   "execution_count": 248,
   "metadata": {},
   "outputs": [
    {
     "data": {
      "text/plain": [
       "[range(0, 40)]"
      ]
     },
     "execution_count": 248,
     "metadata": {},
     "output_type": "execute_result"
    }
   ],
   "source": [
    "[range(0,40)]"
   ]
  },
  {
   "cell_type": "code",
   "execution_count": null,
   "metadata": {
    "collapsed": true
   },
   "outputs": [],
   "source": []
  },
  {
   "cell_type": "code",
   "execution_count": null,
   "metadata": {
    "collapsed": true
   },
   "outputs": [],
   "source": []
  },
  {
   "cell_type": "code",
   "execution_count": null,
   "metadata": {
    "collapsed": true
   },
   "outputs": [],
   "source": []
  },
  {
   "cell_type": "code",
   "execution_count": null,
   "metadata": {
    "collapsed": true
   },
   "outputs": [],
   "source": []
  },
  {
   "cell_type": "code",
   "execution_count": null,
   "metadata": {
    "collapsed": true
   },
   "outputs": [],
   "source": []
  },
  {
   "cell_type": "code",
   "execution_count": null,
   "metadata": {
    "collapsed": true
   },
   "outputs": [],
   "source": []
  },
  {
   "cell_type": "code",
   "execution_count": null,
   "metadata": {
    "collapsed": true
   },
   "outputs": [],
   "source": []
  },
  {
   "cell_type": "code",
   "execution_count": null,
   "metadata": {
    "collapsed": true
   },
   "outputs": [],
   "source": []
  },
  {
   "cell_type": "code",
   "execution_count": null,
   "metadata": {
    "collapsed": true
   },
   "outputs": [],
   "source": []
  },
  {
   "cell_type": "code",
   "execution_count": null,
   "metadata": {
    "collapsed": true
   },
   "outputs": [],
   "source": []
  },
  {
   "cell_type": "markdown",
   "metadata": {},
   "source": [
    "### 5.2 No dimensional reduction: all 9 features"
   ]
  },
  {
   "cell_type": "code",
   "execution_count": 85,
   "metadata": {
    "collapsed": true
   },
   "outputs": [],
   "source": [
    "from numpy import array\n",
    "from math import sqrt\n",
    "\n",
    "from pyspark.mllib.clustering import KMeans, KMeansModel\n",
    "from pyspark import SparkContext\n",
    "\n",
    "sc = SparkContext.getOrCreate()\n",
    "\n",
    "# Load and parse the data\n",
    "data = sc.textFile(\"../output/user_habit_features_only.txt\")\n",
    "parsedData = data.map(lambda line: array([float(x) for x in line.split('\\t')]))\n",
    "\n",
    "# Evaluate clustering by computing Within Set Sum of Squared Errors\n",
    "def error(point):\n",
    "    center = clusters.centers[clusters.predict(point)]\n",
    "    return sqrt(sum([x**2 for x in (point - center)]))"
   ]
  },
  {
   "cell_type": "markdown",
   "metadata": {},
   "source": [
    "### Find the optimal K"
   ]
  },
  {
   "cell_type": "code",
   "execution_count": null,
   "metadata": {
    "collapsed": true
   },
   "outputs": [],
   "source": [
    "WSSSE_list = []\n",
    "\n",
    "K_range = range(5,185,5)\n",
    "for K in K_range:\n",
    "    \n",
    "    # Build the model (cluster the data)\n",
    "    clusters = KMeans.train(parsedData, K, maxIterations=10, initializationMode=\"random\")\n",
    "    \n",
    "    WSSSE = parsedData.map(lambda point: error(point)).reduce(lambda x, y: x + y)\n",
    "    #print(\"======Within Set Sum of Squared Error = \" + str(WSSSE) + \"=======\")\n",
    "    WSSSE_list.append(WSSSE)"
   ]
  },
  {
   "cell_type": "code",
   "execution_count": 23,
   "metadata": {},
   "outputs": [],
   "source": [
    "WSSSE_data = {'K':K_range, \"WSSSE\": WSSSE_list}\n",
    "WSSSE_DF = pd.DataFrame(WSSSE_data)"
   ]
  },
  {
   "cell_type": "code",
   "execution_count": 34,
   "metadata": {},
   "outputs": [
    {
     "data": {
      "text/plain": [
       "<matplotlib.figure.Figure at 0x115693208>"
      ]
     },
     "metadata": {},
     "output_type": "display_data"
    },
    {
     "data": {
      "image/png": "[encoded data removed]",
      "text/plain": [
       "<matplotlib.figure.Figure at 0x120ff1b38>"
      ]
     },
     "metadata": {},
     "output_type": "display_data"
    }
   ],
   "source": [
    "import matplotlib.pyplot as plt\n",
    "fig = plt.figure()\n",
    "WSSSE_DF.plot(x='K', y='WSSSE')\n",
    "plt.axvline(40, \n",
    "            color='darkorange', linestyle='dashed', linewidth=2)\n",
    "plt.xlabel('Clusters')\n",
    "plt.title('Within Set Sum of Squared Error of K-Means')\n",
    "plt.show()\n",
    "#fig.set_dpi(200)\n",
    "#fig.savefig(\"../figs/WSSSE.png\")"
   ]
  },
  {
   "cell_type": "markdown",
   "metadata": {},
   "source": [
    "The optimal k is usually one where there is an “elbow” in the WSSSE graph. So choose k = 40."
   ]
  },
  {
   "cell_type": "markdown",
   "metadata": {},
   "source": [
    "### Run K-Means with optimal K=40"
   ]
  },
  {
   "cell_type": "code",
   "execution_count": null,
   "metadata": {
    "collapsed": true
   },
   "outputs": [],
   "source": [
    "K_opt = 40\n",
    "clusters = KMeans.train(parsedData, K_opt, maxIterations=10, initializationMode=\"random\")"
   ]
  }
 ],
 "metadata": {
  "kernelspec": {
   "display_name": "Python 3",
   "language": "python",
   "name": "python3"
  },
  "language_info": {
   "codemirror_mode": {
    "name": "ipython",
    "version": 3
   },
   "file_extension": ".py",
   "mimetype": "text/x-python",
   "name": "python",
   "nbconvert_exporter": "python",
   "pygments_lexer": "ipython3",
   "version": "3.6.3"
  }
 },
 "nbformat": 4,
 "nbformat_minor": 2
}
